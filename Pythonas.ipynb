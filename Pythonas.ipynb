{
  "nbformat": 4,
  "nbformat_minor": 0,
  "metadata": {
    "colab": {
      "provenance": [],
      "authorship_tag": "ABX9TyNzAq3T7otDxI/nXZyf8neq",
      "include_colab_link": true
    },
    "kernelspec": {
      "name": "python3",
      "display_name": "Python 3"
    },
    "language_info": {
      "name": "python"
    }
  },
  "cells": [
    {
      "cell_type": "markdown",
      "metadata": {
        "id": "view-in-github",
        "colab_type": "text"
      },
      "source": [
        "<a href=\"https://colab.research.google.com/github/AggeSak/HTML-CSS/blob/main/Pythonas.ipynb\" target=\"_parent\"><img src=\"https://colab.research.google.com/assets/colab-badge.svg\" alt=\"Open In Colab\"/></a>"
      ]
    },
    {
      "cell_type": "markdown",
      "source": [
        "# Εισαγωγή\n"
      ],
      "metadata": {
        "id": "Z3r5TEdfiE4a"
      }
    },
    {
      "cell_type": "code",
      "source": [
        "print(\"Hello Kouts\")"
      ],
      "metadata": {
        "id": "NDtJ8c43jyzz"
      },
      "execution_count": null,
      "outputs": []
    },
    {
      "cell_type": "code",
      "source": [
        "#This is an one line comment\n",
        "\"\"\"\n",
        "This is a comment\n",
        "written in\n",
        "more than just one line\n",
        "\n",
        "\"\"\""
      ],
      "metadata": {
        "id": "k46UO1qdkUSm"
      },
      "execution_count": null,
      "outputs": []
    },
    {
      "cell_type": "code",
      "source": [
        "if 5 > 2:\n",
        "print(\"Five is greater than two!\")"
      ],
      "metadata": {
        "id": "hpWRgelceP1r"
      },
      "execution_count": null,
      "outputs": []
    },
    {
      "cell_type": "code",
      "source": [
        "if 5 > 2:\n",
        " print(\"Five is greater than two!\")\n",
        "if 5 > 2:\n",
        "        print(\"Five is greater than two!\")"
      ],
      "metadata": {
        "colab": {
          "base_uri": "https://localhost:8080/"
        },
        "id": "Lo401TLmejsQ",
        "outputId": "425343a3-bdee-498a-8bc5-58e4e4cb2f6e"
      },
      "execution_count": 9,
      "outputs": [
        {
          "output_type": "stream",
          "name": "stdout",
          "text": [
            "Five is greater than two!\n",
            "Five is greater than two!\n"
          ]
        }
      ]
    },
    {
      "cell_type": "markdown",
      "source": [
        "\n",
        "\n",
        "Python has no command for declaring a variable.\n",
        "\n",
        "A variable is created the moment you first assign a value to it\n",
        "\n",
        "Types of Values:\n"
      ],
      "metadata": {
        "id": "CVxe5smskxYp"
      }
    },
    {
      "cell_type": "code",
      "source": [
        "a=5"
      ],
      "metadata": {
        "id": "lHUsmst-mIjX"
      },
      "execution_count": null,
      "outputs": []
    },
    {
      "cell_type": "markdown",
      "source": [
        "Tuples..."
      ],
      "metadata": {
        "id": "v4w4zSYWmNlf"
      }
    },
    {
      "cell_type": "code",
      "source": [],
      "metadata": {
        "id": "jaxnUTIomQDC"
      },
      "execution_count": null,
      "outputs": []
    },
    {
      "cell_type": "markdown",
      "source": [
        "Functions"
      ],
      "metadata": {
        "id": "CaBDDi7CmROs"
      }
    },
    {
      "cell_type": "markdown",
      "source": [
        "# Simple Programs"
      ],
      "metadata": {
        "id": "ivbiAd7Hiik5"
      }
    },
    {
      "cell_type": "code",
      "execution_count": null,
      "metadata": {
        "colab": {
          "base_uri": "https://localhost:8080/"
        },
        "id": "6hVwK1JGM2Ux",
        "outputId": "f642ab1a-866c-48f6-eec8-41ad8da6c09d"
      },
      "outputs": [
        {
          "output_type": "stream",
          "name": "stdout",
          "text": [
            "Enter the first number: 5\n",
            "Enter the second number: 6\n",
            "Choose an arithmetic operation:\n",
            "1. Addition (+)\n",
            "2. Subtraction (-)\n",
            "3. Division (/)\n",
            "4. Multiplication (*)\n",
            "Enter your choice (1/2/3/4): 3\n",
            "\n",
            "Result: 5.0 / 6.0 = 0.8333333333333334\n"
          ]
        }
      ],
      "source": [
        "def perform_addition(num1, num2):\n",
        "    return num1 + num2\n",
        "\n",
        "def perform_subtraction(num1, num2):\n",
        "    return num1 - num2\n",
        "\n",
        "def perform_division(num1, num2):\n",
        "    if num2 != 0:\n",
        "        return num1 / num2\n",
        "    else:\n",
        "        return \"Cannot divide by zero!\"\n",
        "\n",
        "def perform_multiplication(num1, num2):\n",
        "    return num1 * num2\n",
        "\n",
        "def main():\n",
        "    # Get user input for two numbers\n",
        "    num1 = float(input(\"Enter the first number: \"))\n",
        "    num2 = float(input(\"Enter the second number: \"))\n",
        "\n",
        "    # Ask user for the arithmetic operation\n",
        "    print(\"Choose an arithmetic operation:\")\n",
        "    print(\"1. Addition (+)\")\n",
        "    print(\"2. Subtraction (-)\")\n",
        "    print(\"3. Division (/)\")\n",
        "    print(\"4. Multiplication (*)\")\n",
        "    choice = int(input(\"Enter your choice (1/2/3/4): \"))\n",
        "\n",
        "    # Perform calculations based on user's choice\n",
        "    if choice == 1:\n",
        "        result = perform_addition(num1, num2)\n",
        "        operation = \"+\"\n",
        "    elif choice == 2:\n",
        "        result = perform_subtraction(num1, num2)\n",
        "        operation = \"-\"\n",
        "    elif choice == 3:\n",
        "        result = perform_division(num1, num2)\n",
        "        operation = \"/\"\n",
        "    elif choice == 4:\n",
        "        result = perform_multiplication(num1, num2)\n",
        "        operation = \"*\"\n",
        "    else:\n",
        "        print(\"Invalid choice!\")\n",
        "        return\n",
        "\n",
        "    # Display the result\n",
        "    print(f\"\\nResult: {num1} {operation} {num2} = {result}\")\n",
        "\n",
        "if __name__ == \"__main__\":\n",
        "    main()\n"
      ]
    },
    {
      "cell_type": "markdown",
      "source": [
        "# New Section"
      ],
      "metadata": {
        "id": "jSaY5XCzjV3V"
      }
    },
    {
      "cell_type": "markdown",
      "source": [
        "# New Section\n",
        "\n",
        "*   List item\n",
        "*   List item\n",
        "\n"
      ],
      "metadata": {
        "id": "Rup0Q3-de2Fi"
      }
    },
    {
      "cell_type": "markdown",
      "source": [
        "# New Section\n",
        "\n",
        "*   List item\n",
        "*   List item\n",
        "\n"
      ],
      "metadata": {
        "id": "PRn00CMriphT"
      }
    },
    {
      "cell_type": "markdown",
      "source": [
        "# New Section\n",
        "\n",
        "*   List item\n",
        "*   List item\n",
        "\n"
      ],
      "metadata": {
        "id": "F0cdA10Hip2u"
      }
    },
    {
      "cell_type": "markdown",
      "source": [
        "# New Section\n",
        "\n",
        "*   List item\n",
        "*   List item\n",
        "\n"
      ],
      "metadata": {
        "id": "F3q6QNSViqbs"
      }
    }
  ]
}